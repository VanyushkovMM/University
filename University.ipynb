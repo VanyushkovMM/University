{
  "nbformat": 4,
  "nbformat_minor": 0,
  "metadata": {
    "colab": {
      "name": "University.ipynb",
      "provenance": [],
      "collapsed_sections": []
    },
    "kernelspec": {
      "name": "python3",
      "display_name": "Python 3"
    },
    "language_info": {
      "name": "python"
    }
  },
  "cells": [
    {
      "cell_type": "markdown",
      "metadata": {
        "id": "Rlyzk_SlqZUQ"
      },
      "source": [
        "**Работу выполнили:**\n",
        "\n",
        "**Ванюшков Максим 381908-1**\n",
        "\n",
        "**Иванов Аркадий  381908-1**\n",
        "\n",
        "Ссылка на таблицу: https://docs.google.com/spreadsheets/d/1biJm2dIHUHlJPWWEdj6sjOTv4TlAMtmS/edit?usp=sharing&ouid=100458953741102245072&rtpof=true&sd=true"
      ]
    },
    {
      "cell_type": "markdown",
      "metadata": {
        "id": "VCnPAIQaNTj7"
      },
      "source": [
        "Написать программу, рассчитывающую затраты на онлайн университет и на оффлайн университет.\n",
        "\n",
        "На сайте ННГУ выложены ваши учебные планы - бакалавриата и магистратуры. За основу можно взять их, выкинув всякие бесполезные по вашему мнению предметы.\n",
        "\n",
        "И конечно можно варьировать количество часов лекций и практик.\n",
        "\n",
        "Количество студентов в группе - параметр, равный 12 или 22.\n",
        "\n",
        "Один преподаватель ведет n пар в неделю, n = 5 или 10 ( ставка и полставки). Один преподаватель не может вести больше 3 х разных предметов.\n",
        "\n",
        "Начисления на оплату труда 30.1 % (платит работодатель ) до вычитания подоходного налога.\n",
        "\n",
        "Плюс оплата интернета.\n",
        "Обязательно содержание двух бухгалтеров, расходы на 1С, системного администратора.\n",
        "\n",
        "Плюс пару методистов, которые будут отбиваться от министерства образования во время проверок и аккредитации.\n",
        "\n",
        "К оффлайн образованию прибавляем стоимость содержания здания (или аренда помещений), коммуналка, охрана, уборщица, гардеробщица, стулья столы, раз в пять лет обновление компьютеров, обновление проекторов,, закупка канцелярии, бумаги, антисептика.\n",
        "\n",
        "Зарплаты берите средние с hh.ru\n",
        "\n",
        "Учитывайте инфляцию, можно взять официальную, хотя реальная обычно больше.\n",
        "\n",
        "Результатом должны стать цифры сколько каждый студент должен заплатить если учится онлайн и оффлайн. И сколько лет должен учиться. В бакалавриате и в магистратуре.\n",
        "\n",
        "Не забывайте, что не смотря на то, что учитесь вы не весь год подряд, зарплату всем работникам нужно платить круглый год.\n",
        "\n",
        "Результаты расчетов - код и краткий отчет выкладывайте на гитхаб или гугл док. И открываете мне доступ.\n",
        "\n",
        "На гитхабе я - Belokamenskaya\n",
        "Почта - getmanskaya.alexandra@gmail.com"
      ]
    },
    {
      "cell_type": "code",
      "metadata": {
        "id": "Vt67LntBR0YV"
      },
      "source": [
        "#подключение библиотеки для считывания данных с таблицы и математической библиотеки\n",
        "import xlrd\n",
        "import math"
      ],
      "execution_count": 1,
      "outputs": []
    },
    {
      "cell_type": "code",
      "metadata": {
        "colab": {
          "base_uri": "https://localhost:8080/"
        },
        "id": "tNR8PhNTR_Fy",
        "outputId": "72f57161-e446-40be-bfe1-65b984384e59"
      },
      "source": [
        "#подключение Google Drive\n",
        "from google.colab import drive\n",
        "drive.mount('/content/drive', force_remount = True)"
      ],
      "execution_count": 2,
      "outputs": [
        {
          "output_type": "stream",
          "name": "stdout",
          "text": [
            "Mounted at /content/drive\n"
          ]
        }
      ]
    },
    {
      "cell_type": "markdown",
      "metadata": {
        "id": "fc4z8hgdSFxf"
      },
      "source": [
        "В функции *openexcel* мы открываем таблицу на Google Drive по адресу *url*, выбираем лист *(sheet)*, считываем таблицу в аргумент *vals* и возвращаем данные таблицы."
      ]
    },
    {
      "cell_type": "code",
      "metadata": {
        "id": "Des6KCVLSDJX"
      },
      "source": [
        "def openexcel(url, page):\n",
        "  rb = xlrd.open_workbook(url)\n",
        "  sheet = rb.sheet_by_index(page)\n",
        "  vals = [sheet.row_values(rownum) for rownum in range(sheet.nrows)]\n",
        "  return vals"
      ],
      "execution_count": 3,
      "outputs": []
    },
    {
      "cell_type": "markdown",
      "metadata": {
        "id": "VUxaT4f9lgLk"
      },
      "source": [
        "Классы *Teacher* и *Subject* использовались для удобства обращения к данным."
      ]
    },
    {
      "cell_type": "code",
      "metadata": {
        "id": "kYSvmGi0t7M9"
      },
      "source": [
        "class Teacher():\n",
        "  def __init__(self, subjectName, salary):\n",
        "    self.subjectName = subjectName\n",
        "    self.salary = int(salary)\n",
        "  \n",
        "  def __repr__(self):\n",
        "    return self.subjectName + ' - ' + str(self.salary) + ' руб.\\n'"
      ],
      "execution_count": 4,
      "outputs": []
    },
    {
      "cell_type": "code",
      "metadata": {
        "id": "Ifc1DBirt8wi"
      },
      "source": [
        "class Subject():\n",
        "  def __init__(self, name, lecture, practice, laboratory, semester):\n",
        "    self.name = name\n",
        "    self.lecture = int(lecture)\n",
        "    self.practice = int(practice)\n",
        "    self.laboratory = int(laboratory)\n",
        "    self.semester = int(semester)\n",
        "\n",
        "  def __repr__(self):\n",
        "    text = self.name + '\\n  '\n",
        "    if self.lecture > 0:\n",
        "      text+= 'lectures: ' + str(self.lecture) + '\\n  '\n",
        "    if self.practice > 0:\n",
        "      text+= 'practices: ' + str(self.practice) + '\\n  '\n",
        "    if self.laboratory > 0:\n",
        "      text+= 'laboratories: ' + str(self.laboratory) + '\\n  '\n",
        "    text+= 'semesters: ' + str(self.semester) + '\\n'\n",
        "    return text"
      ],
      "execution_count": 5,
      "outputs": []
    },
    {
      "cell_type": "markdown",
      "metadata": {
        "id": "Fo3BxaZUly0e"
      },
      "source": [
        "Функция *countTeachers* подсчитывает необходимое количество преподавателей на полную ставку и на полставки для каждого предмета."
      ]
    },
    {
      "cell_type": "code",
      "metadata": {
        "id": "pVhpCIe3x4jC"
      },
      "source": [
        "def countTeachers(subjects, countGroups) -> list:\n",
        "  fullTeachers = []\n",
        "  halfTeachers = []\n",
        "  for sub in subjects:\n",
        "    t = (sub.lecture + countGroups * (sub.practice + sub.laboratory)) / 32\n",
        "    tmp = math.ceil(t / 5)\n",
        "    fullTeachers.append(tmp // 2)\n",
        "    halfTeachers.append(tmp % 2)\n",
        "  return [halfTeachers, fullTeachers]"
      ],
      "execution_count": 6,
      "outputs": []
    },
    {
      "cell_type": "markdown",
      "metadata": {
        "id": "rjdLCNl-mFzh"
      },
      "source": [
        "Функция *processingLessons* формирует списки предметов и преподавателей."
      ]
    },
    {
      "cell_type": "code",
      "metadata": {
        "id": "87uX5177a7y0"
      },
      "source": [
        "def processingLessons(vals) -> list:\n",
        "  subjects = []\n",
        "  teachers = []\n",
        "  for sub in vals:\n",
        "    if not isinstance(sub[1], str):\n",
        "      subjects.append(Subject(sub[0], sub[1], sub[2], sub[3], sub[4]))\n",
        "      teachers.append(Teacher(sub[0], sub[9]))\n",
        "  return [subjects, teachers]"
      ],
      "execution_count": 7,
      "outputs": []
    },
    {
      "cell_type": "markdown",
      "metadata": {
        "id": "atJe6EDKmQw1"
      },
      "source": [
        "Функция *processingConst* возвращает список константных значений, заполненных в таблице."
      ]
    },
    {
      "cell_type": "code",
      "metadata": {
        "id": "HqbNRlcLvWq9"
      },
      "source": [
        "def processingConst(vals) -> list:\n",
        "  countStudents = vals[0][1]\n",
        "  countGroups = vals[1][1]\n",
        "  priceM2 = vals[2][1]\n",
        "  squares = [vals[3][1], vals[4][1], vals[5][1]]\n",
        "  salarys = [vals[6][1], vals[7][1], vals[8][1], vals[9][1], vals[10][1]]\n",
        "  program1C = vals[11][1]\n",
        "  internet = vals[12][1]\n",
        "  zoom = vals[13][1]\n",
        "  return [countStudents, countGroups, priceM2, squares, salarys, program1C, internet, zoom]"
      ],
      "execution_count": 8,
      "outputs": []
    },
    {
      "cell_type": "markdown",
      "metadata": {
        "id": "70TBHcH6mtmQ"
      },
      "source": [
        "Функция *totalSalaryTeachers* подсчитывает зарплату для преподавателей за 4 года обучения."
      ]
    },
    {
      "cell_type": "code",
      "metadata": {
        "id": "nvFmLu1XVnqL"
      },
      "source": [
        "def totalSalaryTeachers(halfTeachers, fullTeachers, teachers, subjects, inflation) -> int:\n",
        "  tmpSum = 0\n",
        "  sum = 0\n",
        "  for i in range(len(teachers)):\n",
        "    tmpSum += math.ceil((halfTeachers[i] + fullTeachers[i] * 2) * (teachers[i].salary / 2) * subjects[i].semester * 6)\n",
        "  sum = math.ceil(tmpSum / 2)\n",
        "  for i in range(3):\n",
        "    tmpSum = math.ceil((1 + inflation[i][1] / 100) * tmpSum)\n",
        "    sum += tmpSum\n",
        "  sum += math.ceil((1 + inflation[3][1] / 100) * tmpSum)\n",
        "  return math.ceil(sum / 4 / 0.699)"
      ],
      "execution_count": 9,
      "outputs": []
    },
    {
      "cell_type": "markdown",
      "metadata": {
        "id": "a4bNmx5GnGB6"
      },
      "source": [
        "Функция *totalSalaryStaff* подсчитывает зарплату для персонала за 4 года."
      ]
    },
    {
      "cell_type": "code",
      "metadata": {
        "id": "3zJnbepGZu3L"
      },
      "source": [
        "def totalSalaryStaff(salarys, inflation) -> int:\n",
        "  tmpSum = 0\n",
        "  sum = 0\n",
        "  for salary in salarys:\n",
        "    tmpSum += salary\n",
        "  tmpSum *= 2\n",
        "  sum = math.ceil(tmpSum / 2)\n",
        "  for i in range(3):\n",
        "    tmpSum = math.ceil((1 + inflation[i][1] / 100) * tmpSum)\n",
        "    sum += tmpSum\n",
        "  sum += math.ceil((1 + inflation[3][1] / 100) * tmpSum)\n",
        "  return math.ceil(sum / 4)"
      ],
      "execution_count": 10,
      "outputs": []
    },
    {
      "cell_type": "markdown",
      "metadata": {
        "id": "3-rwkvQknNDY"
      },
      "source": [
        "Функция *totalSquarePrice* подсчитывает аренду помещения за 4 года."
      ]
    },
    {
      "cell_type": "code",
      "metadata": {
        "id": "EZojg1k5a2xr"
      },
      "source": [
        "def totalSquarePrice(halfTeachers, fullTeachers, countGroups, countStudents, squares, salarys, priceM2) -> int:\n",
        "  teachers = 0\n",
        "  for i in range(len(halfTeachers)):\n",
        "    teachers += halfTeachers[i] + fullTeachers[i]\n",
        "  students = countStudents * countGroups\n",
        "  staff = len(salarys) * 2\n",
        "  return int((students * squares[0] + teachers * squares[2]) * priceM2 * 40 + staff * squares[1] * 48)"
      ],
      "execution_count": 11,
      "outputs": []
    },
    {
      "cell_type": "markdown",
      "metadata": {
        "id": "VeQ1se6kn8o3"
      },
      "source": [
        "Функция *zoomPrice* подсчитывает цену на обслуживание Zoom."
      ]
    },
    {
      "cell_type": "code",
      "metadata": {
        "id": "T4Mb33Pmgprx"
      },
      "source": [
        "def zoomPrice(zoom, countGroups) -> int:\n",
        "  return int(zoom * 48 * countGroups)"
      ],
      "execution_count": 12,
      "outputs": []
    },
    {
      "cell_type": "markdown",
      "metadata": {
        "id": "cPAHN1LAoJVf"
      },
      "source": [
        "Функция *otherPrice* подсчитывает сумму на обслуживание интернета и программы 1C."
      ]
    },
    {
      "cell_type": "code",
      "metadata": {
        "id": "tmYSuoN3chpf"
      },
      "source": [
        "def otherPrice(program1C, internet) -> int:\n",
        "  return int((program1C + internet * 12) * 4)"
      ],
      "execution_count": 13,
      "outputs": []
    },
    {
      "cell_type": "code",
      "metadata": {
        "id": "ghfcWVgLVVc3"
      },
      "source": [
        "subjects, teachers = processingLessons(openexcel('/content/drive/My Drive/Colab Notebooks/Plan.xlsx', 2))"
      ],
      "execution_count": 14,
      "outputs": []
    },
    {
      "cell_type": "code",
      "metadata": {
        "id": "VAauPBttBYu_"
      },
      "source": [
        "countStudents, countGroups, priceM2, squares, salarys, program1C, internet, zoom = processingConst(openexcel('/content/drive/My Drive/Colab Notebooks/Plan.xlsx', 0))"
      ],
      "execution_count": 15,
      "outputs": []
    },
    {
      "cell_type": "code",
      "metadata": {
        "id": "S1pOTMSquBhJ"
      },
      "source": [
        "inflation = openexcel('/content/drive/My Drive/Colab Notebooks/Plan.xlsx', 1)"
      ],
      "execution_count": 16,
      "outputs": []
    },
    {
      "cell_type": "code",
      "metadata": {
        "id": "5bkIx62MM8dZ"
      },
      "source": [
        "halfTeachers, fullTeachers = countTeachers(subjects, countGroups)"
      ],
      "execution_count": 17,
      "outputs": []
    },
    {
      "cell_type": "markdown",
      "metadata": {
        "id": "82X8txphoegW"
      },
      "source": [
        "Ниже представлен подсчет суммы на очное обучение."
      ]
    },
    {
      "cell_type": "code",
      "metadata": {
        "id": "Q0mI8N3yZUsl"
      },
      "source": [
        "fullTime = totalSalaryTeachers(halfTeachers, fullTeachers, teachers, subjects, inflation)\n",
        "fullTime += totalSalaryStaff(salarys, inflation)\n",
        "fullTime += totalSquarePrice(halfTeachers, fullTeachers, countGroups, countStudents, squares, salarys, priceM2)\n",
        "fullTime += otherPrice(program1C, internet)\n",
        "fullTime = math.ceil(fullTime / (countStudents * countGroups * 2))"
      ],
      "execution_count": 18,
      "outputs": []
    },
    {
      "cell_type": "markdown",
      "metadata": {
        "id": "9m2A341yol16"
      },
      "source": [
        "Ниже представлен подсчет суммы на дистанционное обучение."
      ]
    },
    {
      "cell_type": "code",
      "metadata": {
        "id": "WXghkilOioZn"
      },
      "source": [
        "partTime = totalSalaryTeachers(halfTeachers, fullTeachers, teachers, subjects, inflation)\n",
        "partTime += otherPrice(program1C, internet)\n",
        "partTime += zoomPrice(zoom, countGroups)\n",
        "partTime = math.ceil(partTime / (countStudents * countGroups * 2))"
      ],
      "execution_count": 19,
      "outputs": []
    },
    {
      "cell_type": "markdown",
      "metadata": {
        "id": "rJ9RSETBoqkP"
      },
      "source": [
        "Итоговый результат."
      ]
    },
    {
      "cell_type": "code",
      "metadata": {
        "colab": {
          "base_uri": "https://localhost:8080/"
        },
        "id": "jSZYV5r5dbk7",
        "outputId": "a4029a7b-ed93-4dd0-f719-7edcc211f3c8"
      },
      "source": [
        "print('Цена очного обучения (за семестр):', fullTime, 'руб.')\n",
        "print('Цена дистанционного обучения (за семестр):',  partTime, 'руб.')\n",
        "print('Разница цен:', abs(fullTime - partTime), 'руб.')\n",
        "\n",
        "# Цена очного обучения (за семестр): 174859 руб.\n",
        "# Цена дистанционного обучения (за семестр): 146213 руб.\n",
        "# Разница цен: 28646 руб."
      ],
      "execution_count": 20,
      "outputs": [
        {
          "output_type": "stream",
          "name": "stdout",
          "text": [
            "Цена очного обучения (за семестр): 174859 руб.\n",
            "Цена дистанционного обучения (за семестр): 146213 руб.\n",
            "Разница цен: 28646 руб.\n"
          ]
        }
      ]
    }
  ]
}